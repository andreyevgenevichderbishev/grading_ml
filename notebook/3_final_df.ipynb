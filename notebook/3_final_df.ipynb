{
 "cells": [
  {
   "cell_type": "markdown",
   "id": "449410cc-e0e7-4e4f-8b4f-8c796a39f49a",
   "metadata": {},
   "source": [
    "## Исправляем ошибки и отбираем монеты с оценками по Шелдону."
   ]
  },
  {
   "cell_type": "code",
   "execution_count": 1,
   "id": "4d13916a-3332-45a7-a0c6-89207fffe0fd",
   "metadata": {},
   "outputs": [],
   "source": [
    "import pandas as pd\n",
    "import time\n",
    "from tqdm import tqdm\n",
    "import re\n",
    "import os"
   ]
  },
  {
   "cell_type": "code",
   "execution_count": 2,
   "id": "bcbb318f-8092-4023-9d60-a7e6b4f6a3fc",
   "metadata": {
    "scrolled": true
   },
   "outputs": [
    {
     "name": "stdout",
     "output_type": "stream",
     "text": [
      "<class 'pandas.core.frame.DataFrame'>\n",
      "Int64Index: 121071 entries, 0 to 121109\n",
      "Data columns (total 7 columns):\n",
      " #   Column     Non-Null Count   Dtype  \n",
      "---  ------     --------------   -----  \n",
      " 0   number     121071 non-null  object \n",
      " 1   weight     120898 non-null  float64\n",
      " 2   date       120898 non-null  object \n",
      " 3   year       120127 non-null  object \n",
      " 4   condition  119950 non-null  object \n",
      " 5   value      120898 non-null  object \n",
      " 6   text       46217 non-null   object \n",
      "dtypes: float64(1), object(6)\n",
      "memory usage: 7.4+ MB\n"
     ]
    }
   ],
   "source": [
    "df = pd.read_csv(\"D:\\Python\\coin_data.csv\",index_col='Unnamed: 0')\n",
    "df.info()"
   ]
  },
  {
   "cell_type": "markdown",
   "id": "9eb0e7f7-d723-4209-84e1-d1effa71324a",
   "metadata": {},
   "source": [
    "Проверяем все ли загружено."
   ]
  },
  {
   "cell_type": "code",
   "execution_count": 3,
   "id": "64d1a03c-7662-4ae6-98d2-5852042fb0a9",
   "metadata": {},
   "outputs": [
    {
     "name": "stderr",
     "output_type": "stream",
     "text": [
      "100%|████████████████████████████████████████████████████████████████████████| 121071/121071 [00:23<00:00, 5210.87it/s]\n"
     ]
    },
    {
     "data": {
      "text/plain": [
       "[]"
      ]
     },
     "execution_count": 3,
     "metadata": {},
     "output_type": "execute_result"
    }
   ],
   "source": [
    "mising_image = []\n",
    "for i in tqdm(df['number']):\n",
    "    if not (os.path.exists(f\"D:\\Python\\coin_pages\\{i}a.jpg\") and os.path.exists(f\"D:\\Python\\coin_pages\\{i}r.jpg\")):\n",
    "        mising_image.append(i)\n",
    "mising_image"
   ]
  },
  {
   "cell_type": "code",
   "execution_count": 4,
   "id": "c4490777-72ca-4f1c-a959-30988a75beaf",
   "metadata": {},
   "outputs": [
    {
     "data": {
      "text/html": [
       "<div>\n",
       "<style scoped>\n",
       "    .dataframe tbody tr th:only-of-type {\n",
       "        vertical-align: middle;\n",
       "    }\n",
       "\n",
       "    .dataframe tbody tr th {\n",
       "        vertical-align: top;\n",
       "    }\n",
       "\n",
       "    .dataframe thead th {\n",
       "        text-align: right;\n",
       "    }\n",
       "</style>\n",
       "<table border=\"1\" class=\"dataframe\">\n",
       "  <thead>\n",
       "    <tr style=\"text-align: right;\">\n",
       "      <th></th>\n",
       "      <th>value</th>\n",
       "    </tr>\n",
       "    <tr>\n",
       "      <th>condition</th>\n",
       "      <th></th>\n",
       "    </tr>\n",
       "  </thead>\n",
       "  <tbody>\n",
       "    <tr>\n",
       "      <th>MS63</th>\n",
       "      <td>11901</td>\n",
       "    </tr>\n",
       "    <tr>\n",
       "      <th>MS64</th>\n",
       "      <td>11746</td>\n",
       "    </tr>\n",
       "    <tr>\n",
       "      <th>MS65</th>\n",
       "      <td>9501</td>\n",
       "    </tr>\n",
       "    <tr>\n",
       "      <th>MS62</th>\n",
       "      <td>9217</td>\n",
       "    </tr>\n",
       "    <tr>\n",
       "      <th>UNC det.</th>\n",
       "      <td>6886</td>\n",
       "    </tr>\n",
       "    <tr>\n",
       "      <th>AU det.</th>\n",
       "      <td>6485</td>\n",
       "    </tr>\n",
       "    <tr>\n",
       "      <th>MS66</th>\n",
       "      <td>6129</td>\n",
       "    </tr>\n",
       "    <tr>\n",
       "      <th>MS61</th>\n",
       "      <td>5059</td>\n",
       "    </tr>\n",
       "    <tr>\n",
       "      <th>XF det.</th>\n",
       "      <td>3536</td>\n",
       "    </tr>\n",
       "    <tr>\n",
       "      <th>AU58</th>\n",
       "      <td>2642</td>\n",
       "    </tr>\n",
       "  </tbody>\n",
       "</table>\n",
       "</div>"
      ],
      "text/plain": [
       "           value\n",
       "condition       \n",
       "MS63       11901\n",
       "MS64       11746\n",
       "MS65        9501\n",
       "MS62        9217\n",
       "UNC det.    6886\n",
       "AU det.     6485\n",
       "MS66        6129\n",
       "MS61        5059\n",
       "XF det.     3536\n",
       "AU58        2642"
      ]
     },
     "execution_count": 4,
     "metadata": {},
     "output_type": "execute_result"
    }
   ],
   "source": [
    "pd.options.display.max_rows = 150\n",
    "df.pivot_table(index='condition',values='value',aggfunc='count').sort_values(by='value',ascending=False).head(10)"
   ]
  },
  {
   "cell_type": "code",
   "execution_count": 5,
   "id": "55d2f55d-dd00-4bbd-a239-0cf6209749e6",
   "metadata": {},
   "outputs": [
    {
     "data": {
      "text/plain": [
       "149"
      ]
     },
     "execution_count": 5,
     "metadata": {},
     "output_type": "execute_result"
    }
   ],
   "source": [
    "len(df['condition'].unique())"
   ]
  },
  {
   "cell_type": "code",
   "execution_count": 6,
   "id": "5c1ec986-2ff1-4cc2-988f-7602d765d691",
   "metadata": {},
   "outputs": [],
   "source": [
    "df.loc[df['condition'] == 'XF det.','condition'] = 'ХF det.'\n",
    "df.loc[df['condition'] == 'UNC  det.','condition'] = 'UNC det.'\n",
    "df.loc[df['condition'] == 'UNC.det','condition'] = 'UNC det.'\n",
    "df.loc[df['condition'] == 'AUdet.','condition'] = 'AU det.'\n",
    "df.loc[df['condition'] == 'MS65 BN','condition'] = 'MS65BN'"
   ]
  },
  {
   "cell_type": "markdown",
   "id": "48c52f41-bd82-47c4-a4ed-ceb127d1a80d",
   "metadata": {},
   "source": [
    "Оставляем оценки только по Шелдону."
   ]
  },
  {
   "cell_type": "code",
   "execution_count": 7,
   "id": "64d02751-80ce-4d6a-a0f9-0434885017b2",
   "metadata": {},
   "outputs": [],
   "source": [
    "target_list = ['AU58BN', 'AU55', 'F det.', 'AU58', 'AU det.', 'ХF det.', 'MS66RB',\\\n",
    "       'AU53', 'MS60BN', 'MS62BN', 'MS60', 'AU50', 'UNC det.',\\\n",
    "       'MS61BN', 'XF45', 'MS62', 'MS64', 'MS63', 'MS61', 'MS65', 'AU55BN',\\\n",
    "       'MS64RB', 'MS65RB', 'MS64BN', 'PL63', 'MS61RB', 'MS66', 'MS65RD',\\\n",
    "       'MS66RD', 'MS64RD', 'MS63RB', 'MS63BN', 'XF40', 'VF det.', 'MS67',\\\n",
    "       'MS65BN', 'MS66BN', 'VF35', 'VF30', 'MS69', 'MS68',\\\n",
    "       'VF25', 'VG det.', 'F15', 'MS70', 'PF70', 'VF20',\\\n",
    "       'PL65', 'PF64', 'PF69', 'PL61', 'PF60',\\\n",
    "       'PF68', 'PF67', 'PF65', 'PF62', 'PF det.', 'PL62',\\\n",
    "       'AU53BN', 'PL64', 'PL68', 'PL67', 'PL69', 'PF66', 'XF45BN',\\\n",
    "       'XF40BN', 'VF30BN', 'AU50BN', 'VF35BN', 'VF25BN', 'PF63', 'PF63BN',\\\n",
    "       'PF65BN', 'PF64BN', 'PL65RB', 'PF63RD', 'MS62RB', 'MS63RD',\\\n",
    "       'PL64BN', 'MS61RD', 'PL66', 'PF61', 'VG8', 'F12', 'PF67RD',\\\n",
    "       'F15BN', 'PL65RD', 'MS62RD', 'AU58RB', 'PL70', 'PF64RB',\\\n",
    "       'PL60', 'PF61BN', 'PF66RD', 'G det.', 'PF63RB', 'PF64RD',\\\n",
    "       'MS60RB', 'MS67RD', 'PF62BN', 'АU58', 'VG10', 'АU55', 'VF20BN',\\\n",
    "       'PF62RB', 'MS65RВ', 'PL65BN', 'PF60BN',\\\n",
    "       'PL66RB', 'PF65RD', 'PL58', 'PL63RB',\\\n",
    "       'PF65RB', 'PF66BN', 'PF58', 'G4', 'G6', 'PF55', 'PL64RB',\\\n",
    "       'MS67RB', 'AU55RB', 'F12BN', 'PF53']"
   ]
  },
  {
   "cell_type": "code",
   "execution_count": 8,
   "id": "0ee4bf27-3a93-4341-8c69-eb105e03e112",
   "metadata": {},
   "outputs": [
    {
     "data": {
      "text/plain": [
       "123"
      ]
     },
     "execution_count": 8,
     "metadata": {},
     "output_type": "execute_result"
    }
   ],
   "source": [
    "df = df.loc[df['condition'].isin(target_list)]\n",
    "len(df['condition'].unique())"
   ]
  },
  {
   "cell_type": "markdown",
   "id": "5e2860f7-7f3b-447f-acee-b8180ca51ae7",
   "metadata": {},
   "source": [
    "Добавляем имена изображений и столбец о наличии det."
   ]
  },
  {
   "cell_type": "code",
   "execution_count": 9,
   "id": "02d75fdc-9365-48cf-a711-6ae3f645ca17",
   "metadata": {},
   "outputs": [
    {
     "name": "stdout",
     "output_type": "stream",
     "text": [
      "<class 'pandas.core.frame.DataFrame'>\n",
      "Int64Index: 115247 entries, 0 to 121109\n",
      "Data columns (total 10 columns):\n",
      " #   Column     Non-Null Count   Dtype  \n",
      "---  ------     --------------   -----  \n",
      " 0   number     115247 non-null  object \n",
      " 1   weight     115247 non-null  float64\n",
      " 2   date       115247 non-null  object \n",
      " 3   year       114783 non-null  object \n",
      " 4   condition  115247 non-null  object \n",
      " 5   value      115247 non-null  object \n",
      " 6   text       42272 non-null   object \n",
      " 7   det        115247 non-null  bool   \n",
      " 8   revers     115247 non-null  object \n",
      " 9   avers      115247 non-null  object \n",
      "dtypes: bool(1), float64(1), object(8)\n",
      "memory usage: 8.9+ MB\n"
     ]
    }
   ],
   "source": [
    "df['det'] = df['condition'].str.find('det')>0\n",
    "df['revers'] = df['number']+'r.jpg'\n",
    "df['avers'] = df['number']+'a.jpg'\n",
    "df.info()"
   ]
  },
  {
   "cell_type": "markdown",
   "id": "94b37b75-6e24-4f8a-b8de-fbfb0be9806f",
   "metadata": {},
   "source": [
    "Сохраняем конечный датафрейм с которым будем работать."
   ]
  },
  {
   "cell_type": "code",
   "execution_count": 10,
   "id": "b0a83583-f562-4ee6-aaae-03fcde83fa43",
   "metadata": {},
   "outputs": [],
   "source": [
    "df.to_csv(r'D:\\Python\\coin_data_final.csv')"
   ]
  },
  {
   "cell_type": "code",
   "execution_count": null,
   "id": "53b4c2ab-6f1b-4078-90d7-76f236ca9bd9",
   "metadata": {},
   "outputs": [],
   "source": []
  }
 ],
 "metadata": {
  "kernelspec": {
   "display_name": "Python 3 (ipykernel)",
   "language": "python",
   "name": "python3"
  },
  "language_info": {
   "codemirror_mode": {
    "name": "ipython",
    "version": 3
   },
   "file_extension": ".py",
   "mimetype": "text/x-python",
   "name": "python",
   "nbconvert_exporter": "python",
   "pygments_lexer": "ipython3",
   "version": "3.11.2"
  }
 },
 "nbformat": 4,
 "nbformat_minor": 5
}
