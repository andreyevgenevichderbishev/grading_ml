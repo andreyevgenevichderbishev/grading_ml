{
 "cells": [
  {
   "cell_type": "markdown",
   "id": "86e2bb0d-93bb-47c0-bca6-cc7d6ada32a5",
   "metadata": {},
   "source": [
    "# Скачиваем информацию о слабах ННР"
   ]
  },
  {
   "cell_type": "code",
   "execution_count": 2,
   "id": "b9aeb0f6-a624-404e-8f14-564063062870",
   "metadata": {},
   "outputs": [],
   "source": [
    "import requests\n",
    "import string\n",
    "import itertools\n",
    "import concurrent.futures\n",
    "import time\n",
    "import os\n",
    "from tqdm import tqdm\n",
    "import pandas as pd"
   ]
  },
  {
   "cell_type": "markdown",
   "id": "41695c3f-2606-4559-9971-19aa10800c6d",
   "metadata": {},
   "source": [
    "### Проверяем все имена слабов формата LLDDDD."
   ]
  },
  {
   "cell_type": "markdown",
   "id": "18671d63-183b-46fb-9b5b-2bdf94633578",
   "metadata": {},
   "source": [
    "Всего 6760000 вариантов. ~60 часов. Существующие номера сохраняем в файл base.txt"
   ]
  },
  {
   "cell_type": "code",
   "execution_count": 2,
   "id": "6e818ba0-c426-4b28-9187-d2f0e217ca1e",
   "metadata": {},
   "outputs": [
    {
     "name": "stdin",
     "output_type": "stream",
     "text": [
      "Enter the starting slab number (e.g., vf0000):  ZN6379\n"
     ]
    },
    {
     "name": "stdout",
     "output_type": "stream",
     "text": [
      "An error occurred: HTTPSConnectionPool(host='nreestr.ru', port=443): Max retries exceeded with url: /img/all/bpict/ZO0547r.jpg (Caused by ConnectTimeoutError(<urllib3.connection.HTTPSConnection object at 0x000001EBF207B7D0>, 'Connection to nreestr.ru timed out. (connect timeout=None)'))\n",
      "Processed 6000 slab numbers\n",
      "Processed 12000 slab numbers\n",
      "Processed 18000 slab numbers\n",
      "Processed 24000 slab numbers\n",
      "Processed 30000 slab numbers\n",
      "Processed 36000 slab numbers\n",
      "Processed 42000 slab numbers\n",
      "Processed 48000 slab numbers\n",
      "Processed 54000 slab numbers\n",
      "Processed 60000 slab numbers\n",
      "An error occurred: HTTPSConnectionPool(host='nreestr.ru', port=443): Max retries exceeded with url: /img/all/bpict/ZT8876r.jpg (Caused by ConnectTimeoutError(<urllib3.connection.HTTPSConnection object at 0x000001EBFB367BD0>, 'Connection to nreestr.ru timed out. (connect timeout=None)'))\n",
      "Processed 66000 slab numbers\n",
      "Processed 72000 slab numbers\n",
      "Processed 78000 slab numbers\n",
      "Processed 84000 slab numbers\n",
      "Processed 90000 slab numbers\n",
      "Processed 96000 slab numbers\n",
      "Processed 102000 slab numbers\n",
      "Processed 108000 slab numbers\n",
      "Processed 114000 slab numbers\n",
      "Processed 120000 slab numbers\n",
      "An error occurred: HTTPSConnectionPool(host='nreestr.ru', port=443): Max retries exceeded with url: /img/all/bpict/ZZ7118r.jpg (Caused by ConnectTimeoutError(<urllib3.connection.HTTPSConnection object at 0x000001EB83FD2710>, 'Connection to nreestr.ru timed out. (connect timeout=None)'))\n"
     ]
    }
   ],
   "source": [
    "# Создаем директорию для хранения страниц, если она не существует\n",
    "os.makedirs('D:/Python/coin_pages', exist_ok=True)\n",
    "\n",
    "def slab_number_generator(start_number):\n",
    "    letters = string.ascii_uppercase\n",
    "    digits = string.digits\n",
    "\n",
    "    start_letter1 = start_number[0].upper()\n",
    "    start_letter2 = start_number[1].upper()\n",
    "    start_digit = start_number[2:]\n",
    "\n",
    "    # Генерируем все возможные комбинации номеров слаба\n",
    "    for letter1 in letters[letters.index(start_letter1):]:\n",
    "        for letter2 in letters if letter1 != start_letter1 else letters[letters.index(start_letter2):]:\n",
    "            for digit_combination in itertools.product(digits, repeat=4):\n",
    "                slab_number = f\"{letter1}{letter2}{''.join(digit_combination)}\"\n",
    "                if slab_number >= start_number.upper():\n",
    "                    yield slab_number\n",
    "\n",
    "\n",
    "def check_file_exists(slab_number):\n",
    "    url = f\"https://nreestr.ru/img/all/bpict/{slab_number}r.jpg\"\n",
    "    try:\n",
    "        response = requests.head(url)\n",
    "        if response.status_code == 200:\n",
    "            save_progress('D:/Python/coin_pages/base.txt',f'{slab_number},')\n",
    "        return response.status_code == 200\n",
    "    except requests.exceptions.RequestException as e:\n",
    "        print(f\"An error occurred: {e}\")\n",
    "        return False\n",
    "\n",
    "def save_progress(filename, name):\n",
    "    with open(filename, 'a') as file:\n",
    "        file.write(name)\n",
    "\n",
    "\n",
    "def main(start_number):\n",
    "    slab_numbers = slab_number_generator(start_number)\n",
    "    count = 0\n",
    "\n",
    "    with concurrent.futures.ThreadPoolExecutor(max_workers=10) as executor:\n",
    "        future_to_slab = {executor.submit(check_file_exists, slab_number): slab_number for slab_number in slab_numbers}\n",
    "\n",
    "        for future in concurrent.futures.as_completed(future_to_slab):\n",
    "            slab_number = future_to_slab[future]\n",
    "            try:\n",
    "                result = future.result()\n",
    "                count += 1\n",
    "                if count % 6000 == 0:\n",
    "                    print(f\"Processed {count} slab numbers\")\n",
    "            except Exception as exc:\n",
    "                print(f\"Slab number {slab_number} generated an exception: {exc}\")\n",
    "\n",
    "if __name__ == \"__main__\":\n",
    "    start_number = input(\"Enter the starting slab number (e.g., vf0000): \").upper()\n",
    "    main(start_number)"
   ]
  },
  {
   "cell_type": "markdown",
   "id": "d70dced5-0583-41bc-8fca-eae27844a221",
   "metadata": {},
   "source": [
    "### Скачиваем страницы относящиеся к монетам."
   ]
  },
  {
   "cell_type": "markdown",
   "id": "00a775aa-0ad4-45a9-861c-ed36c0434a33",
   "metadata": {},
   "source": [
    "Создаем датафрейм из base.txt . Удаляем дубликаты."
   ]
  },
  {
   "cell_type": "code",
   "execution_count": 3,
   "id": "2b5948b9-3ddf-4865-803e-15f6188bd2b3",
   "metadata": {},
   "outputs": [
    {
     "name": "stdout",
     "output_type": "stream",
     "text": [
      "   number\n",
      "0  AA0203\n",
      "1  AA0509\n",
      "2  AA0737\n",
      "3  AA1075\n",
      "4  AA1076\n"
     ]
    }
   ],
   "source": [
    "import csv\n",
    "\n",
    "with open('D:/Python/base.txt', 'r') as f:\n",
    "    df = pd.DataFrame(f.read().split(','),columns=['number'])\n",
    "print(df.head())"
   ]
  },
  {
   "cell_type": "code",
   "execution_count": 4,
   "id": "116ebcbc-90f1-4a40-a0ea-a4fe7bab489c",
   "metadata": {},
   "outputs": [
    {
     "name": "stdout",
     "output_type": "stream",
     "text": [
      "<class 'pandas.core.frame.DataFrame'>\n",
      "RangeIndex: 121111 entries, 0 to 121110\n",
      "Data columns (total 1 columns):\n",
      " #   Column  Non-Null Count   Dtype \n",
      "---  ------  --------------   ----- \n",
      " 0   number  121111 non-null  object\n",
      "dtypes: object(1)\n",
      "memory usage: 946.3+ KB\n"
     ]
    }
   ],
   "source": [
    "df.info()"
   ]
  },
  {
   "cell_type": "code",
   "execution_count": 5,
   "id": "eeb74356-8641-4643-aad0-01dbfee4f9ff",
   "metadata": {},
   "outputs": [
    {
     "data": {
      "text/html": [
       "<div>\n",
       "<style scoped>\n",
       "    .dataframe tbody tr th:only-of-type {\n",
       "        vertical-align: middle;\n",
       "    }\n",
       "\n",
       "    .dataframe tbody tr th {\n",
       "        vertical-align: top;\n",
       "    }\n",
       "\n",
       "    .dataframe thead th {\n",
       "        text-align: right;\n",
       "    }\n",
       "</style>\n",
       "<table border=\"1\" class=\"dataframe\">\n",
       "  <thead>\n",
       "    <tr style=\"text-align: right;\">\n",
       "      <th></th>\n",
       "      <th>number</th>\n",
       "    </tr>\n",
       "  </thead>\n",
       "  <tbody>\n",
       "    <tr>\n",
       "      <th>count</th>\n",
       "      <td>463.000000</td>\n",
       "    </tr>\n",
       "    <tr>\n",
       "      <th>mean</th>\n",
       "      <td>261.578834</td>\n",
       "    </tr>\n",
       "    <tr>\n",
       "      <th>std</th>\n",
       "      <td>406.430292</td>\n",
       "    </tr>\n",
       "    <tr>\n",
       "      <th>min</th>\n",
       "      <td>1.000000</td>\n",
       "    </tr>\n",
       "    <tr>\n",
       "      <th>25%</th>\n",
       "      <td>25.500000</td>\n",
       "    </tr>\n",
       "    <tr>\n",
       "      <th>50%</th>\n",
       "      <td>85.000000</td>\n",
       "    </tr>\n",
       "    <tr>\n",
       "      <th>75%</th>\n",
       "      <td>242.000000</td>\n",
       "    </tr>\n",
       "    <tr>\n",
       "      <th>max</th>\n",
       "      <td>1895.000000</td>\n",
       "    </tr>\n",
       "  </tbody>\n",
       "</table>\n",
       "</div>"
      ],
      "text/plain": [
       "            number\n",
       "count   463.000000\n",
       "mean    261.578834\n",
       "std     406.430292\n",
       "min       1.000000\n",
       "25%      25.500000\n",
       "50%      85.000000\n",
       "75%     242.000000\n",
       "max    1895.000000"
      ]
     },
     "execution_count": 5,
     "metadata": {},
     "output_type": "execute_result"
    }
   ],
   "source": [
    "df.pivot_table(index=df['number'].str[:2],values='number',aggfunc='count').describe()"
   ]
  },
  {
   "cell_type": "markdown",
   "id": "3cc5c33c-1b12-4315-b35e-df10cd198a75",
   "metadata": {},
   "source": [
    "Сохраняем датафрейм в виде csv."
   ]
  },
  {
   "cell_type": "code",
   "execution_count": 13,
   "id": "404115b7-76f8-42b9-81d7-60380e76412c",
   "metadata": {},
   "outputs": [],
   "source": [
    "df = df.drop_duplicates()\n",
    "df.duplicated().sum()\n",
    "df = df.drop(labels=[121110],axis= 0)\n",
    "df.to_csv(r'D:\\Python\\df_base.csv')"
   ]
  },
  {
   "cell_type": "code",
   "execution_count": 14,
   "id": "ca54d7f6-9c6d-4575-84d0-b8f15a333086",
   "metadata": {},
   "outputs": [
    {
     "data": {
      "text/html": [
       "<div>\n",
       "<style scoped>\n",
       "    .dataframe tbody tr th:only-of-type {\n",
       "        vertical-align: middle;\n",
       "    }\n",
       "\n",
       "    .dataframe tbody tr th {\n",
       "        vertical-align: top;\n",
       "    }\n",
       "\n",
       "    .dataframe thead th {\n",
       "        text-align: right;\n",
       "    }\n",
       "</style>\n",
       "<table border=\"1\" class=\"dataframe\">\n",
       "  <thead>\n",
       "    <tr style=\"text-align: right;\">\n",
       "      <th></th>\n",
       "      <th>number</th>\n",
       "    </tr>\n",
       "  </thead>\n",
       "  <tbody>\n",
       "    <tr>\n",
       "      <th>121105</th>\n",
       "      <td>ZZ9621</td>\n",
       "    </tr>\n",
       "    <tr>\n",
       "      <th>121106</th>\n",
       "      <td>ZZ9638</td>\n",
       "    </tr>\n",
       "    <tr>\n",
       "      <th>121107</th>\n",
       "      <td>ZZ9677</td>\n",
       "    </tr>\n",
       "    <tr>\n",
       "      <th>121108</th>\n",
       "      <td>ZZ9908</td>\n",
       "    </tr>\n",
       "    <tr>\n",
       "      <th>121109</th>\n",
       "      <td>ZZ9909</td>\n",
       "    </tr>\n",
       "  </tbody>\n",
       "</table>\n",
       "</div>"
      ],
      "text/plain": [
       "        number\n",
       "121105  ZZ9621\n",
       "121106  ZZ9638\n",
       "121107  ZZ9677\n",
       "121108  ZZ9908\n",
       "121109  ZZ9909"
      ]
     },
     "execution_count": 14,
     "metadata": {},
     "output_type": "execute_result"
    }
   ],
   "source": [
    "df.tail()"
   ]
  },
  {
   "cell_type": "markdown",
   "id": "1d79f941-a665-4024-a261-4cd3875a7b3a",
   "metadata": {},
   "source": [
    "Скачиваем с сайта страницы для всех монет в базе. ~3ч."
   ]
  },
  {
   "cell_type": "code",
   "execution_count": 5,
   "id": "9c8dcef6-01a2-44b5-a91e-c03fd0df42df",
   "metadata": {},
   "outputs": [],
   "source": [
    "def download_page(slab_number):\n",
    "    url = f'https://nreestr.ru/coins/search/{slab_number}';\n",
    "    try:\n",
    "        response = requests.get(url)\n",
    "        if response.status_code == 200:\n",
    "            # Сохраняем страницу в файл\n",
    "            filename = f\"D:/Python/coin_pages/{slab_number}.html\"\n",
    "            with open(filename, 'w', encoding='utf-8') as file:\n",
    "                file.write(response.text)\n",
    "                \n",
    "            url_r = f\"https://nreestr.ru/img/all/bpict/{slab_number}r.jpg\"  \n",
    "            response = requests.get(url_r)   \n",
    "            reversname = f\"D:/Python/coin_pages/{slab_number}r.jpg\"\n",
    "            with open(reversname, 'wb') as file:\n",
    "                file.write(response.content)    \n",
    "\n",
    "\n",
    "            url_a = f\"https://nreestr.ru/img/all/bpict/{slab_number}a.jpg\"  \n",
    "            response = requests.get(url_a)   \n",
    "            reversname = f\"D:/Python/coin_pages/{slab_number}a.jpg\"\n",
    "            with open(reversname, 'wb') as file:\n",
    "                file.write(response.content)    \n",
    "\n",
    "            \n",
    "            time.sleep(0.2)    \n",
    "            return f\"Saved: {slab_number}\"\n",
    "        else:\n",
    "            return f\"Failed: {slab_number} (Status code: {response.status_code})\"\n",
    "    except Exception as e:\n",
    "        return f\"Error: {slab_number} ({e})\""
   ]
  },
  {
   "cell_type": "code",
   "execution_count": null,
   "id": "84d75dec-2be1-4b23-945c-1f74b542d4e4",
   "metadata": {},
   "outputs": [],
   "source": [
    "count = 0\n",
    "with concurrent.futures.ThreadPoolExecutor(max_workers=10) as executor:\n",
    "    future_to_slab = {executor.submit(download_page, slab_number): slab_number for slab_number in df['number']}\n",
    "\n",
    "    for future in concurrent.futures.as_completed(future_to_slab):\n",
    "        slab_number = future_to_slab[future]\n",
    "        try:\n",
    "            result = future.result()\n",
    "            count += 1\n",
    "            if count % 200 == 0:\n",
    "                print(f\"Processed {count} slab numbers\")\n",
    "        except Exception as exc:\n",
    "            print(f\"Slab number {slab_number} generated an exception: {exc}\")"
   ]
  },
  {
   "cell_type": "code",
   "execution_count": 6,
   "id": "ac8f5a5e-68a6-4895-8223-6d093b9d45ed",
   "metadata": {},
   "outputs": [
    {
     "data": {
      "text/plain": [
       "'Saved: YU2656'"
      ]
     },
     "execution_count": 6,
     "metadata": {},
     "output_type": "execute_result"
    }
   ],
   "source": [
    "download_page('YU2656')"
   ]
  },
  {
   "cell_type": "code",
   "execution_count": null,
   "id": "54028b61-4678-46b1-adf4-376797eb4ebc",
   "metadata": {},
   "outputs": [],
   "source": []
  }
 ],
 "metadata": {
  "kernelspec": {
   "display_name": "Python 3 (ipykernel)",
   "language": "python",
   "name": "python3"
  },
  "language_info": {
   "codemirror_mode": {
    "name": "ipython",
    "version": 3
   },
   "file_extension": ".py",
   "mimetype": "text/x-python",
   "name": "python",
   "nbconvert_exporter": "python",
   "pygments_lexer": "ipython3",
   "version": "3.11.2"
  }
 },
 "nbformat": 4,
 "nbformat_minor": 5
}
